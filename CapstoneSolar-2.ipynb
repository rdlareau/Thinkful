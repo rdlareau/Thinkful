{
 "cells": [
  {
   "cell_type": "markdown",
   "metadata": {},
   "source": [
    "# Capstone project using Google Home Solar panel information from Kaggle\n",
    "\n",
    "https://www.kaggle.com/jboysen/google-project-sunroof\n",
    "\n",
    "Google's \"Project Sunroof\" has compiled a data set which computes how much sunlight hits all rooftops in a year. It takes into account:\n",
    "\n",
    "* Google's database of imagery and maps\n",
    "* 3D modeling of the roofs\n",
    "* Shadows cast by nearby structures and trees\n",
    "* All possible sun positions over the course of a year\n",
    "* Historical cloud and temperature patterns that might affect solar energy production\n",
    "\n",
    "This particular subset is reported for each US state. It contains the following information:\n",
    "\n",
    "* State longitude and latitude details\n",
    "* Summarized total available roof-space broken down by compass direction\n",
    "* Calculates total usable sunlight and estimated \"carbon offset\" potential\n",
    "* Current count of buildings with solar panels installed\n",
    "\n",
    "We would like to ask the general question: <b> What factors contribute to the current count of each state's solar panel installation? </b> Using the information provided by this data set in addition with other state attributes, we will construct a basic formula to predict total solar panel installations for each state.\n",
    "\n",
    "* Part I: Use the data included in the Solar panel data set. How predictive is a state's relative location (longitude and latitude) and overall state \"sunshine\" factor to predict total solar panel installations?\n",
    "* Part II: Bring in additional state data to determine how population, GDP and political party leaning can predict solar panel installations.\n",
    "* Part III: Using correlation calculations as a guide, develop a single formula to predict solar panel installations for each state.\n"
   ]
  },
  {
   "cell_type": "code",
   "execution_count": 68,
   "metadata": {
    "collapsed": true
   },
   "outputs": [],
   "source": [
    "import pandas as pd\n",
    "import numpy as np\n",
    "import matplotlib.pyplot as plt\n",
    "%matplotlib inline"
   ]
  },
  {
   "cell_type": "markdown",
   "metadata": {},
   "source": [
    "## Initial analysis\n",
    "This is our baseline table, Project Sunroof data set for current solar panel installation, by state. "
   ]
  },
  {
   "cell_type": "code",
   "execution_count": 69,
   "metadata": {},
   "outputs": [
    {
     "data": {
      "text/html": [
       "<div>\n",
       "<style>\n",
       "    .dataframe thead tr:only-child th {\n",
       "        text-align: right;\n",
       "    }\n",
       "\n",
       "    .dataframe thead th {\n",
       "        text-align: left;\n",
       "    }\n",
       "\n",
       "    .dataframe tbody tr th {\n",
       "        vertical-align: top;\n",
       "    }\n",
       "</style>\n",
       "<table border=\"1\" class=\"dataframe\">\n",
       "  <thead>\n",
       "    <tr style=\"text-align: right;\">\n",
       "      <th></th>\n",
       "      <th>region_name</th>\n",
       "      <th>state_name</th>\n",
       "      <th>lat_max</th>\n",
       "      <th>lat_min</th>\n",
       "      <th>lng_max</th>\n",
       "      <th>lng_min</th>\n",
       "      <th>lat_avg</th>\n",
       "      <th>lng_avg</th>\n",
       "      <th>yearly_sunlight_kwh_kw_threshold_avg</th>\n",
       "      <th>count_qualified</th>\n",
       "      <th>...</th>\n",
       "      <th>yearly_sunlight_kwh_n</th>\n",
       "      <th>yearly_sunlight_kwh_s</th>\n",
       "      <th>yearly_sunlight_kwh_e</th>\n",
       "      <th>yearly_sunlight_kwh_w</th>\n",
       "      <th>yearly_sunlight_kwh_f</th>\n",
       "      <th>yearly_sunlight_kwh_median</th>\n",
       "      <th>yearly_sunlight_kwh_total</th>\n",
       "      <th>install_size_kw_buckets_json</th>\n",
       "      <th>carbon_offset_metric_tons</th>\n",
       "      <th>existing_installs_count</th>\n",
       "    </tr>\n",
       "  </thead>\n",
       "  <tbody>\n",
       "    <tr>\n",
       "      <th>0</th>\n",
       "      <td>NaN</td>\n",
       "      <td>NaN</td>\n",
       "      <td>32.65</td>\n",
       "      <td>32.54</td>\n",
       "      <td>-115.67</td>\n",
       "      <td>-117.03</td>\n",
       "      <td>32.57</td>\n",
       "      <td>-116.63</td>\n",
       "      <td>1300.36</td>\n",
       "      <td>2</td>\n",
       "      <td>...</td>\n",
       "      <td>4.75e+03</td>\n",
       "      <td>7.69e+03</td>\n",
       "      <td>0.00e+00</td>\n",
       "      <td>0.00e+00</td>\n",
       "      <td>0.00e+00</td>\n",
       "      <td>5209.46</td>\n",
       "      <td>1.24e+04</td>\n",
       "      <td>[[0,2]]</td>\n",
       "      <td>0.00e+00</td>\n",
       "      <td>0</td>\n",
       "    </tr>\n",
       "    <tr>\n",
       "      <th>1</th>\n",
       "      <td>Alabama</td>\n",
       "      <td>Alabama</td>\n",
       "      <td>34.99</td>\n",
       "      <td>30.19</td>\n",
       "      <td>-84.96</td>\n",
       "      <td>-88.41</td>\n",
       "      <td>32.94</td>\n",
       "      <td>-86.85</td>\n",
       "      <td>1083.96</td>\n",
       "      <td>700683</td>\n",
       "      <td>...</td>\n",
       "      <td>1.13e+09</td>\n",
       "      <td>3.87e+09</td>\n",
       "      <td>2.42e+09</td>\n",
       "      <td>2.80e+09</td>\n",
       "      <td>8.74e+09</td>\n",
       "      <td>12069.32</td>\n",
       "      <td>1.90e+10</td>\n",
       "      <td>[[0,137667],[5,221548],[10,148580],[15,74864],...</td>\n",
       "      <td>1.20e+07</td>\n",
       "      <td>549</td>\n",
       "    </tr>\n",
       "    <tr>\n",
       "      <th>2</th>\n",
       "      <td>Alaska</td>\n",
       "      <td>Alaska</td>\n",
       "      <td>71.34</td>\n",
       "      <td>51.85</td>\n",
       "      <td>-131.52</td>\n",
       "      <td>-176.66</td>\n",
       "      <td>61.37</td>\n",
       "      <td>-148.51</td>\n",
       "      <td>799.53</td>\n",
       "      <td>27583</td>\n",
       "      <td>...</td>\n",
       "      <td>2.19e+06</td>\n",
       "      <td>1.12e+08</td>\n",
       "      <td>4.49e+07</td>\n",
       "      <td>4.49e+07</td>\n",
       "      <td>2.63e+08</td>\n",
       "      <td>6540.61</td>\n",
       "      <td>4.66e+08</td>\n",
       "      <td>[[0,7503],[5,10425],[10,4409],[15,1538],[20,84...</td>\n",
       "      <td>1.92e+05</td>\n",
       "      <td>83</td>\n",
       "    </tr>\n",
       "    <tr>\n",
       "      <th>3</th>\n",
       "      <td>Arizona</td>\n",
       "      <td>Arizona</td>\n",
       "      <td>37.00</td>\n",
       "      <td>31.33</td>\n",
       "      <td>-109.05</td>\n",
       "      <td>-114.79</td>\n",
       "      <td>33.35</td>\n",
       "      <td>-111.89</td>\n",
       "      <td>1378.22</td>\n",
       "      <td>1638999</td>\n",
       "      <td>...</td>\n",
       "      <td>1.78e+09</td>\n",
       "      <td>1.09e+10</td>\n",
       "      <td>6.05e+09</td>\n",
       "      <td>8.64e+09</td>\n",
       "      <td>1.91e+10</td>\n",
       "      <td>18974.80</td>\n",
       "      <td>4.64e+10</td>\n",
       "      <td>[[0,199346],[5,449953],[10,417070],[15,259587]...</td>\n",
       "      <td>1.99e+07</td>\n",
       "      <td>39553</td>\n",
       "    </tr>\n",
       "    <tr>\n",
       "      <th>4</th>\n",
       "      <td>Arkansas</td>\n",
       "      <td>Arkansas</td>\n",
       "      <td>36.50</td>\n",
       "      <td>33.01</td>\n",
       "      <td>-89.73</td>\n",
       "      <td>-94.62</td>\n",
       "      <td>35.10</td>\n",
       "      <td>-92.65</td>\n",
       "      <td>1074.69</td>\n",
       "      <td>322235</td>\n",
       "      <td>...</td>\n",
       "      <td>4.55e+08</td>\n",
       "      <td>1.80e+09</td>\n",
       "      <td>1.02e+09</td>\n",
       "      <td>1.31e+09</td>\n",
       "      <td>4.36e+09</td>\n",
       "      <td>12099.95</td>\n",
       "      <td>8.94e+09</td>\n",
       "      <td>[[0,62028],[5,98712],[10,69090],[15,34138],[20...</td>\n",
       "      <td>5.62e+06</td>\n",
       "      <td>238</td>\n",
       "    </tr>\n",
       "  </tbody>\n",
       "</table>\n",
       "<p>5 rows × 31 columns</p>\n",
       "</div>"
      ],
      "text/plain": [
       "  region_name state_name  lat_max  lat_min  lng_max  lng_min  lat_avg  \\\n",
       "0         NaN        NaN    32.65    32.54  -115.67  -117.03    32.57   \n",
       "1     Alabama    Alabama    34.99    30.19   -84.96   -88.41    32.94   \n",
       "2      Alaska     Alaska    71.34    51.85  -131.52  -176.66    61.37   \n",
       "3     Arizona    Arizona    37.00    31.33  -109.05  -114.79    33.35   \n",
       "4    Arkansas   Arkansas    36.50    33.01   -89.73   -94.62    35.10   \n",
       "\n",
       "   lng_avg  yearly_sunlight_kwh_kw_threshold_avg  count_qualified  \\\n",
       "0  -116.63                               1300.36                2   \n",
       "1   -86.85                               1083.96           700683   \n",
       "2  -148.51                                799.53            27583   \n",
       "3  -111.89                               1378.22          1638999   \n",
       "4   -92.65                               1074.69           322235   \n",
       "\n",
       "            ...             yearly_sunlight_kwh_n  yearly_sunlight_kwh_s  \\\n",
       "0           ...                          4.75e+03               7.69e+03   \n",
       "1           ...                          1.13e+09               3.87e+09   \n",
       "2           ...                          2.19e+06               1.12e+08   \n",
       "3           ...                          1.78e+09               1.09e+10   \n",
       "4           ...                          4.55e+08               1.80e+09   \n",
       "\n",
       "   yearly_sunlight_kwh_e  yearly_sunlight_kwh_w  yearly_sunlight_kwh_f  \\\n",
       "0               0.00e+00               0.00e+00               0.00e+00   \n",
       "1               2.42e+09               2.80e+09               8.74e+09   \n",
       "2               4.49e+07               4.49e+07               2.63e+08   \n",
       "3               6.05e+09               8.64e+09               1.91e+10   \n",
       "4               1.02e+09               1.31e+09               4.36e+09   \n",
       "\n",
       "   yearly_sunlight_kwh_median  yearly_sunlight_kwh_total  \\\n",
       "0                     5209.46                   1.24e+04   \n",
       "1                    12069.32                   1.90e+10   \n",
       "2                     6540.61                   4.66e+08   \n",
       "3                    18974.80                   4.64e+10   \n",
       "4                    12099.95                   8.94e+09   \n",
       "\n",
       "                        install_size_kw_buckets_json  \\\n",
       "0                                            [[0,2]]   \n",
       "1  [[0,137667],[5,221548],[10,148580],[15,74864],...   \n",
       "2  [[0,7503],[5,10425],[10,4409],[15,1538],[20,84...   \n",
       "3  [[0,199346],[5,449953],[10,417070],[15,259587]...   \n",
       "4  [[0,62028],[5,98712],[10,69090],[15,34138],[20...   \n",
       "\n",
       "   carbon_offset_metric_tons  existing_installs_count  \n",
       "0                   0.00e+00                        0  \n",
       "1                   1.20e+07                      549  \n",
       "2                   1.92e+05                       83  \n",
       "3                   1.99e+07                    39553  \n",
       "4                   5.62e+06                      238  \n",
       "\n",
       "[5 rows x 31 columns]"
      ]
     },
     "execution_count": 69,
     "metadata": {},
     "output_type": "execute_result"
    }
   ],
   "source": [
    "\n",
    "solar = pd.read_csv('Files/solarstate.csv')\n",
    "pd.set_option('precision', 2)\n",
    "solar.head(5)"
   ]
  },
  {
   "cell_type": "markdown",
   "metadata": {},
   "source": [
    "Create a new data frame with the subset of desired factors: longitiude, latitude, average yearly sunlight potential, and solar planel installation count. Columns are renamed for additional clarity. Unsorted data (index zero, NaN with zero installs is removed.)"
   ]
  },
  {
   "cell_type": "code",
   "execution_count": 70,
   "metadata": {
    "collapsed": true
   },
   "outputs": [],
   "source": [
    "summary = solar[['state_name', 'lat_avg', 'lng_avg',  'yearly_sunlight_kwh_kw_threshold_avg', 'existing_installs_count']]\n",
    "summary = summary.drop(summary.index[0])\n"
   ]
  },
  {
   "cell_type": "code",
   "execution_count": 71,
   "metadata": {
    "scrolled": true
   },
   "outputs": [
    {
     "data": {
      "text/html": [
       "<div>\n",
       "<style>\n",
       "    .dataframe thead tr:only-child th {\n",
       "        text-align: right;\n",
       "    }\n",
       "\n",
       "    .dataframe thead th {\n",
       "        text-align: left;\n",
       "    }\n",
       "\n",
       "    .dataframe tbody tr th {\n",
       "        vertical-align: top;\n",
       "    }\n",
       "</style>\n",
       "<table border=\"1\" class=\"dataframe\">\n",
       "  <thead>\n",
       "    <tr style=\"text-align: right;\">\n",
       "      <th></th>\n",
       "      <th>State</th>\n",
       "      <th>lat_avg</th>\n",
       "      <th>lng_avg</th>\n",
       "      <th>Sunshine</th>\n",
       "      <th>Installs</th>\n",
       "    </tr>\n",
       "  </thead>\n",
       "  <tbody>\n",
       "    <tr>\n",
       "      <th>5</th>\n",
       "      <td>California</td>\n",
       "      <td>35.58</td>\n",
       "      <td>-119.43</td>\n",
       "      <td>1276.81</td>\n",
       "      <td>328899</td>\n",
       "    </tr>\n",
       "    <tr>\n",
       "      <th>10</th>\n",
       "      <td>Florida</td>\n",
       "      <td>27.91</td>\n",
       "      <td>-81.75</td>\n",
       "      <td>1162.08</td>\n",
       "      <td>104123</td>\n",
       "    </tr>\n",
       "    <tr>\n",
       "      <th>3</th>\n",
       "      <td>Arizona</td>\n",
       "      <td>33.35</td>\n",
       "      <td>-111.89</td>\n",
       "      <td>1378.22</td>\n",
       "      <td>39553</td>\n",
       "    </tr>\n",
       "    <tr>\n",
       "      <th>12</th>\n",
       "      <td>Hawaii</td>\n",
       "      <td>21.14</td>\n",
       "      <td>-157.51</td>\n",
       "      <td>1272.31</td>\n",
       "      <td>25414</td>\n",
       "    </tr>\n",
       "    <tr>\n",
       "      <th>6</th>\n",
       "      <td>Colorado</td>\n",
       "      <td>39.53</td>\n",
       "      <td>-105.22</td>\n",
       "      <td>1246.37</td>\n",
       "      <td>24140</td>\n",
       "    </tr>\n",
       "    <tr>\n",
       "      <th>33</th>\n",
       "      <td>New York</td>\n",
       "      <td>41.79</td>\n",
       "      <td>-74.91</td>\n",
       "      <td>983.90</td>\n",
       "      <td>19979</td>\n",
       "    </tr>\n",
       "    <tr>\n",
       "      <th>22</th>\n",
       "      <td>Massachusetts</td>\n",
       "      <td>42.22</td>\n",
       "      <td>-71.30</td>\n",
       "      <td>979.22</td>\n",
       "      <td>15331</td>\n",
       "    </tr>\n",
       "    <tr>\n",
       "      <th>44</th>\n",
       "      <td>Texas</td>\n",
       "      <td>30.89</td>\n",
       "      <td>-97.38</td>\n",
       "      <td>1129.56</td>\n",
       "      <td>13969</td>\n",
       "    </tr>\n",
       "    <tr>\n",
       "      <th>29</th>\n",
       "      <td>Nevada</td>\n",
       "      <td>37.07</td>\n",
       "      <td>-116.32</td>\n",
       "      <td>1374.39</td>\n",
       "      <td>12759</td>\n",
       "    </tr>\n",
       "    <tr>\n",
       "      <th>31</th>\n",
       "      <td>New Jersey</td>\n",
       "      <td>40.37</td>\n",
       "      <td>-74.47</td>\n",
       "      <td>1002.43</td>\n",
       "      <td>12640</td>\n",
       "    </tr>\n",
       "  </tbody>\n",
       "</table>\n",
       "</div>"
      ],
      "text/plain": [
       "            State  lat_avg  lng_avg  Sunshine  Installs\n",
       "5      California    35.58  -119.43   1276.81    328899\n",
       "10        Florida    27.91   -81.75   1162.08    104123\n",
       "3         Arizona    33.35  -111.89   1378.22     39553\n",
       "12         Hawaii    21.14  -157.51   1272.31     25414\n",
       "6        Colorado    39.53  -105.22   1246.37     24140\n",
       "33       New York    41.79   -74.91    983.90     19979\n",
       "22  Massachusetts    42.22   -71.30    979.22     15331\n",
       "44          Texas    30.89   -97.38   1129.56     13969\n",
       "29         Nevada    37.07  -116.32   1374.39     12759\n",
       "31     New Jersey    40.37   -74.47   1002.43     12640"
      ]
     },
     "execution_count": 71,
     "metadata": {},
     "output_type": "execute_result"
    }
   ],
   "source": [
    "# Clean up column titles, sort by installs\n",
    "\n",
    "summary.rename(columns={'existing_installs_count': 'Installs', 'yearly_sunlight_kwh_kw_threshold_avg': 'Sunshine', \n",
    "    'state_name': 'State'}, inplace=True)\n",
    "table = summary.sort_values('Installs', ascending=False)\n",
    "table.head(10)"
   ]
  },
  {
   "cell_type": "markdown",
   "metadata": {},
   "source": [
    "First inspection of the data shows what we might expect, large sunny states have the highest total installations, while northern small states have few. Note that California has over 300,000 installs, while some states show fewer than 100. This will result in large ranges that might be difficult to graph."
   ]
  },
  {
   "cell_type": "code",
   "execution_count": 72,
   "metadata": {},
   "outputs": [
    {
     "data": {
      "text/html": [
       "<div>\n",
       "<style>\n",
       "    .dataframe thead tr:only-child th {\n",
       "        text-align: right;\n",
       "    }\n",
       "\n",
       "    .dataframe thead th {\n",
       "        text-align: left;\n",
       "    }\n",
       "\n",
       "    .dataframe tbody tr th {\n",
       "        vertical-align: top;\n",
       "    }\n",
       "</style>\n",
       "<table border=\"1\" class=\"dataframe\">\n",
       "  <thead>\n",
       "    <tr style=\"text-align: right;\">\n",
       "      <th></th>\n",
       "      <th>State</th>\n",
       "      <th>lat_avg</th>\n",
       "      <th>lng_avg</th>\n",
       "      <th>Sunshine</th>\n",
       "      <th>Installs</th>\n",
       "    </tr>\n",
       "  </thead>\n",
       "  <tbody>\n",
       "    <tr>\n",
       "      <th>16</th>\n",
       "      <td>Iowa</td>\n",
       "      <td>41.94</td>\n",
       "      <td>-93.22</td>\n",
       "      <td>1019.50</td>\n",
       "      <td>248</td>\n",
       "    </tr>\n",
       "    <tr>\n",
       "      <th>4</th>\n",
       "      <td>Arkansas</td>\n",
       "      <td>35.10</td>\n",
       "      <td>-92.65</td>\n",
       "      <td>1074.69</td>\n",
       "      <td>238</td>\n",
       "    </tr>\n",
       "    <tr>\n",
       "      <th>28</th>\n",
       "      <td>Nebraska</td>\n",
       "      <td>41.16</td>\n",
       "      <td>-97.21</td>\n",
       "      <td>1076.77</td>\n",
       "      <td>208</td>\n",
       "    </tr>\n",
       "    <tr>\n",
       "      <th>46</th>\n",
       "      <td>Vermont</td>\n",
       "      <td>44.06</td>\n",
       "      <td>-72.85</td>\n",
       "      <td>950.30</td>\n",
       "      <td>131</td>\n",
       "    </tr>\n",
       "    <tr>\n",
       "      <th>8</th>\n",
       "      <td>Delaware</td>\n",
       "      <td>39.36</td>\n",
       "      <td>-75.53</td>\n",
       "      <td>1037.24</td>\n",
       "      <td>90</td>\n",
       "    </tr>\n",
       "    <tr>\n",
       "      <th>2</th>\n",
       "      <td>Alaska</td>\n",
       "      <td>61.37</td>\n",
       "      <td>-148.51</td>\n",
       "      <td>799.53</td>\n",
       "      <td>83</td>\n",
       "    </tr>\n",
       "    <tr>\n",
       "      <th>49</th>\n",
       "      <td>West Virginia</td>\n",
       "      <td>38.81</td>\n",
       "      <td>-80.84</td>\n",
       "      <td>978.62</td>\n",
       "      <td>80</td>\n",
       "    </tr>\n",
       "    <tr>\n",
       "      <th>51</th>\n",
       "      <td>Wyoming</td>\n",
       "      <td>42.61</td>\n",
       "      <td>-106.88</td>\n",
       "      <td>1181.33</td>\n",
       "      <td>29</td>\n",
       "    </tr>\n",
       "    <tr>\n",
       "      <th>35</th>\n",
       "      <td>North Dakota</td>\n",
       "      <td>47.32</td>\n",
       "      <td>-99.47</td>\n",
       "      <td>979.55</td>\n",
       "      <td>24</td>\n",
       "    </tr>\n",
       "    <tr>\n",
       "      <th>42</th>\n",
       "      <td>South Dakota</td>\n",
       "      <td>43.98</td>\n",
       "      <td>-98.98</td>\n",
       "      <td>1077.56</td>\n",
       "      <td>21</td>\n",
       "    </tr>\n",
       "  </tbody>\n",
       "</table>\n",
       "</div>"
      ],
      "text/plain": [
       "            State  lat_avg  lng_avg  Sunshine  Installs\n",
       "16           Iowa    41.94   -93.22   1019.50       248\n",
       "4        Arkansas    35.10   -92.65   1074.69       238\n",
       "28       Nebraska    41.16   -97.21   1076.77       208\n",
       "46        Vermont    44.06   -72.85    950.30       131\n",
       "8        Delaware    39.36   -75.53   1037.24        90\n",
       "2          Alaska    61.37  -148.51    799.53        83\n",
       "49  West Virginia    38.81   -80.84    978.62        80\n",
       "51        Wyoming    42.61  -106.88   1181.33        29\n",
       "35   North Dakota    47.32   -99.47    979.55        24\n",
       "42   South Dakota    43.98   -98.98   1077.56        21"
      ]
     },
     "execution_count": 72,
     "metadata": {},
     "output_type": "execute_result"
    }
   ],
   "source": [
    "table.tail(10)"
   ]
  },
  {
   "cell_type": "markdown",
   "metadata": {},
   "source": [
    "Looking at the raw data in a bar chart shows the high disparity between total installs."
   ]
  },
  {
   "cell_type": "code",
   "execution_count": 73,
   "metadata": {
    "scrolled": true
   },
   "outputs": [
    {
     "data": {
      "text/plain": [
       "<matplotlib.axes._subplots.AxesSubplot at 0x1148fdf28>"
      ]
     },
     "execution_count": 73,
     "metadata": {},
     "output_type": "execute_result"
    },
    {
     "data": {
      "image/png": "[encoded data removed]",
      "text/plain": [
       "<matplotlib.figure.Figure at 0x1148f65c0>"
      ]
     },
     "metadata": {},
     "output_type": "display_data"
    }
   ],
   "source": [
    "ax = table.Installs.head(20).plot(kind='bar')\n",
    "ax.set_xticklabels(table.State, rotation=90)\n",
    "ax"
   ]
  },
  {
   "cell_type": "markdown",
   "metadata": {},
   "source": [
    "Looking back at the original table, we saw that populous states had the most installs. Let's bring in state population and look at installs per capita, which should result in a narrower range."
   ]
  },
  {
   "cell_type": "code",
   "execution_count": 74,
   "metadata": {},
   "outputs": [
    {
     "data": {
      "text/html": [
       "<div>\n",
       "<style>\n",
       "    .dataframe thead tr:only-child th {\n",
       "        text-align: right;\n",
       "    }\n",
       "\n",
       "    .dataframe thead th {\n",
       "        text-align: left;\n",
       "    }\n",
       "\n",
       "    .dataframe tbody tr th {\n",
       "        vertical-align: top;\n",
       "    }\n",
       "</style>\n",
       "<table border=\"1\" class=\"dataframe\">\n",
       "  <thead>\n",
       "    <tr style=\"text-align: right;\">\n",
       "      <th></th>\n",
       "      <th>State</th>\n",
       "      <th>Population</th>\n",
       "      <th>lat_avg</th>\n",
       "      <th>lng_avg</th>\n",
       "      <th>Sunshine</th>\n",
       "      <th>Installs</th>\n",
       "      <th>InstallPerCap</th>\n",
       "    </tr>\n",
       "  </thead>\n",
       "  <tbody>\n",
       "    <tr>\n",
       "      <th>39</th>\n",
       "      <td>Hawaii</td>\n",
       "      <td>1360301</td>\n",
       "      <td>21.14</td>\n",
       "      <td>-157.51</td>\n",
       "      <td>1272.31</td>\n",
       "      <td>25414</td>\n",
       "      <td>186.83</td>\n",
       "    </tr>\n",
       "    <tr>\n",
       "      <th>0</th>\n",
       "      <td>California</td>\n",
       "      <td>37253956</td>\n",
       "      <td>35.58</td>\n",
       "      <td>-119.43</td>\n",
       "      <td>1276.81</td>\n",
       "      <td>328899</td>\n",
       "      <td>88.29</td>\n",
       "    </tr>\n",
       "    <tr>\n",
       "      <th>15</th>\n",
       "      <td>Arizona</td>\n",
       "      <td>6392017</td>\n",
       "      <td>33.35</td>\n",
       "      <td>-111.89</td>\n",
       "      <td>1378.22</td>\n",
       "      <td>39553</td>\n",
       "      <td>61.88</td>\n",
       "    </tr>\n",
       "    <tr>\n",
       "      <th>3</th>\n",
       "      <td>Florida</td>\n",
       "      <td>18801310</td>\n",
       "      <td>27.91</td>\n",
       "      <td>-81.75</td>\n",
       "      <td>1162.08</td>\n",
       "      <td>104123</td>\n",
       "      <td>55.38</td>\n",
       "    </tr>\n",
       "    <tr>\n",
       "      <th>21</th>\n",
       "      <td>Colorado</td>\n",
       "      <td>5029196</td>\n",
       "      <td>39.53</td>\n",
       "      <td>-105.22</td>\n",
       "      <td>1246.37</td>\n",
       "      <td>24140</td>\n",
       "      <td>48.00</td>\n",
       "    </tr>\n",
       "  </tbody>\n",
       "</table>\n",
       "</div>"
      ],
      "text/plain": [
       "         State  Population  lat_avg  lng_avg  Sunshine  Installs  \\\n",
       "39      Hawaii     1360301    21.14  -157.51   1272.31     25414   \n",
       "0   California    37253956    35.58  -119.43   1276.81    328899   \n",
       "15     Arizona     6392017    33.35  -111.89   1378.22     39553   \n",
       "3      Florida    18801310    27.91   -81.75   1162.08    104123   \n",
       "21    Colorado     5029196    39.53  -105.22   1246.37     24140   \n",
       "\n",
       "    InstallPerCap  \n",
       "39         186.83  \n",
       "0           88.29  \n",
       "15          61.88  \n",
       "3           55.38  \n",
       "21          48.00  "
      ]
     },
     "execution_count": 74,
     "metadata": {},
     "output_type": "execute_result"
    }
   ],
   "source": [
    "pop = pd.read_csv(\"Files/StatePop.csv\", usecols=[1,2])  # State population in 2016\n",
    "table = pd.merge(pop, table, on='State')\n",
    "table['InstallPerCap'] = 10000 * table['Installs'] / table['Population']\n",
    "table = table.sort_values('InstallPerCap', ascending=False)\n",
    "table.head(5)"
   ]
  },
  {
   "cell_type": "code",
   "execution_count": 75,
   "metadata": {},
   "outputs": [
    {
     "data": {
      "text/plain": [
       "<matplotlib.axes._subplots.AxesSubplot at 0x114d02e10>"
      ]
     },
     "execution_count": 75,
     "metadata": {},
     "output_type": "execute_result"
    },
    {
     "data": {
      "image/png": "[encoded data removed]",
      "text/plain": [
       "<matplotlib.figure.Figure at 0x114d70d30>"
      ]
     },
     "metadata": {},
     "output_type": "display_data"
    }
   ],
   "source": [
    "ax = table.InstallPerCap.head(20).plot(kind='bar')\n",
    "ax.set_xticklabels(table.State, rotation=90)\n",
    "ax"
   ]
  },
  {
   "cell_type": "markdown",
   "metadata": {},
   "source": [
    "This looks more manageable. Now we can test whether longitude, latitude, and sunshine correlate to the installations."
   ]
  },
  {
   "cell_type": "code",
   "execution_count": 76,
   "metadata": {},
   "outputs": [
    {
     "data": {
      "text/plain": [
       "<matplotlib.axes._subplots.AxesSubplot at 0x1144c6a90>"
      ]
     },
     "execution_count": 76,
     "metadata": {},
     "output_type": "execute_result"
    },
    {
     "data": {
      "image/png": "[encoded data removed]",
      "text/plain": [
       "<matplotlib.figure.Figure at 0x1136364a8>"
      ]
     },
     "metadata": {},
     "output_type": "display_data"
    }
   ],
   "source": [
    "table.lng_avg.plot(kind='box')\n",
    "table.lat_avg.plot(kind='box')\n",
    "table.Sunshine.plot(kind='box')"
   ]
  },
  {
   "cell_type": "code",
   "execution_count": 77,
   "metadata": {},
   "outputs": [
    {
     "data": {
      "image/png": "[encoded data removed]",
      "text/plain": [
       "<matplotlib.figure.Figure at 0x1142a1d68>"
      ]
     },
     "metadata": {},
     "output_type": "display_data"
    },
    {
     "data": {
      "image/png": "[encoded data removed]",
      "text/plain": [
       "<matplotlib.figure.Figure at 0x1142bc7f0>"
      ]
     },
     "metadata": {},
     "output_type": "display_data"
    },
    {
     "data": {
      "image/png": "[encoded data removed]",
      "text/plain": [
       "<matplotlib.figure.Figure at 0x114f6c940>"
      ]
     },
     "metadata": {},
     "output_type": "display_data"
    }
   ],
   "source": [
    "for i in ['lat_avg', 'lng_avg', 'Sunshine']:\n",
    "    table.plot(x=i, y='InstallPerCap', kind='scatter')"
   ]
  },
  {
   "cell_type": "code",
   "execution_count": 78,
   "metadata": {},
   "outputs": [
    {
     "data": {
      "text/html": [
       "<div>\n",
       "<style>\n",
       "    .dataframe thead tr:only-child th {\n",
       "        text-align: right;\n",
       "    }\n",
       "\n",
       "    .dataframe thead th {\n",
       "        text-align: left;\n",
       "    }\n",
       "\n",
       "    .dataframe tbody tr th {\n",
       "        vertical-align: top;\n",
       "    }\n",
       "</style>\n",
       "<table border=\"1\" class=\"dataframe\">\n",
       "  <thead>\n",
       "    <tr style=\"text-align: right;\">\n",
       "      <th></th>\n",
       "      <th>Population</th>\n",
       "      <th>lat_avg</th>\n",
       "      <th>lng_avg</th>\n",
       "      <th>Sunshine</th>\n",
       "      <th>Installs</th>\n",
       "      <th>InstallPerCap</th>\n",
       "    </tr>\n",
       "  </thead>\n",
       "  <tbody>\n",
       "    <tr>\n",
       "      <th>Population</th>\n",
       "      <td>1.00</td>\n",
       "      <td>-0.28</td>\n",
       "      <td>0.05</td>\n",
       "      <td>0.13</td>\n",
       "      <td>0.73</td>\n",
       "      <td>0.23</td>\n",
       "    </tr>\n",
       "    <tr>\n",
       "      <th>lat_avg</th>\n",
       "      <td>-0.28</td>\n",
       "      <td>1.00</td>\n",
       "      <td>-0.05</td>\n",
       "      <td>-0.63</td>\n",
       "      <td>-0.22</td>\n",
       "      <td>-0.51</td>\n",
       "    </tr>\n",
       "    <tr>\n",
       "      <th>lng_avg</th>\n",
       "      <td>0.05</td>\n",
       "      <td>-0.05</td>\n",
       "      <td>1.00</td>\n",
       "      <td>-0.33</td>\n",
       "      <td>-0.21</td>\n",
       "      <td>-0.55</td>\n",
       "    </tr>\n",
       "    <tr>\n",
       "      <th>Sunshine</th>\n",
       "      <td>0.13</td>\n",
       "      <td>-0.63</td>\n",
       "      <td>-0.33</td>\n",
       "      <td>1.00</td>\n",
       "      <td>0.33</td>\n",
       "      <td>0.53</td>\n",
       "    </tr>\n",
       "    <tr>\n",
       "      <th>Installs</th>\n",
       "      <td>0.73</td>\n",
       "      <td>-0.22</td>\n",
       "      <td>-0.21</td>\n",
       "      <td>0.33</td>\n",
       "      <td>1.00</td>\n",
       "      <td>0.49</td>\n",
       "    </tr>\n",
       "    <tr>\n",
       "      <th>InstallPerCap</th>\n",
       "      <td>0.23</td>\n",
       "      <td>-0.51</td>\n",
       "      <td>-0.55</td>\n",
       "      <td>0.53</td>\n",
       "      <td>0.49</td>\n",
       "      <td>1.00</td>\n",
       "    </tr>\n",
       "  </tbody>\n",
       "</table>\n",
       "</div>"
      ],
      "text/plain": [
       "               Population  lat_avg  lng_avg  Sunshine  Installs  InstallPerCap\n",
       "Population           1.00    -0.28     0.05      0.13      0.73           0.23\n",
       "lat_avg             -0.28     1.00    -0.05     -0.63     -0.22          -0.51\n",
       "lng_avg              0.05    -0.05     1.00     -0.33     -0.21          -0.55\n",
       "Sunshine             0.13    -0.63    -0.33      1.00      0.33           0.53\n",
       "Installs             0.73    -0.22    -0.21      0.33      1.00           0.49\n",
       "InstallPerCap        0.23    -0.51    -0.55      0.53      0.49           1.00"
      ]
     },
     "execution_count": 78,
     "metadata": {},
     "output_type": "execute_result"
    }
   ],
   "source": [
    "table.corr()"
   ]
  },
  {
   "cell_type": "markdown",
   "metadata": {},
   "source": [
    "The first thing we see in all three graphs is that there is a large percentage of states which have very few installs, spread out through the tested factor. However, all three factors to indicate some trends:\n",
    "* States with lower latitudes have higher install rates.\n",
    "* Western states have higher install rates than eastern ones (although there might be an uptick at the east coast?)\n",
    "* States with higher sunshine indexes have more installs.\n",
    "\n",
    "The sunshine factor is not independent of either latitude or longitude, so we might be measuring the same thing to some degree."
   ]
  },
  {
   "cell_type": "markdown",
   "metadata": {},
   "source": [
    "## Testing additional factors\n",
    "Inspection of the table suggests other possible correlations which might be interesting to check, including state wealth, population density, and political leaning.\n",
    "<br>\n",
    "We'll bring in some other data we think might be relavant to correlations of installations.\n",
    "The following data sets were taken from state ranking data found on Wikipedia. Formatting was done \n",
    "manually through Vim editing of the csv files."
   ]
  },
  {
   "cell_type": "code",
   "execution_count": 79,
   "metadata": {
    "collapsed": true
   },
   "outputs": [],
   "source": [
    "size = pd.read_csv(\"Files/StateLandSize.csv\", usecols=[1,2]) # State size in square miles\n",
    "money = pd.read_csv(\"Files/StatesGDP.csv\", usecols=[1,2])  # State GDP in 2016\n",
    "poli = pd.read_csv(\"Files/StatesPoli.csv\") # State Democrat/Republican ranking based on 2016 election results\n",
    "rain = pd.read_csv(\"Files/StateRain.csv\")  # Average state rainfall"
   ]
  },
  {
   "cell_type": "markdown",
   "metadata": {},
   "source": [
    "Individual new frames will be merged into the main table using \"State\" as the matching key. Then we'll review each new factor in scatter plots, as before.\n",
    "\n"
   ]
  },
  {
   "cell_type": "code",
   "execution_count": 80,
   "metadata": {},
   "outputs": [
    {
     "data": {
      "text/html": [
       "<div>\n",
       "<style>\n",
       "    .dataframe thead tr:only-child th {\n",
       "        text-align: right;\n",
       "    }\n",
       "\n",
       "    .dataframe thead th {\n",
       "        text-align: left;\n",
       "    }\n",
       "\n",
       "    .dataframe tbody tr th {\n",
       "        vertical-align: top;\n",
       "    }\n",
       "</style>\n",
       "<table border=\"1\" class=\"dataframe\">\n",
       "  <thead>\n",
       "    <tr style=\"text-align: right;\">\n",
       "      <th></th>\n",
       "      <th>State</th>\n",
       "      <th>BlueRank</th>\n",
       "      <th>GDP</th>\n",
       "      <th>Rain</th>\n",
       "      <th>Size</th>\n",
       "      <th>Population</th>\n",
       "      <th>lat_avg</th>\n",
       "      <th>lng_avg</th>\n",
       "      <th>Sunshine</th>\n",
       "      <th>Installs</th>\n",
       "      <th>InstallPerCap</th>\n",
       "    </tr>\n",
       "  </thead>\n",
       "  <tbody>\n",
       "    <tr>\n",
       "      <th>5</th>\n",
       "      <td>Hawaii</td>\n",
       "      <td>49.8</td>\n",
       "      <td>83917</td>\n",
       "      <td>63.7</td>\n",
       "      <td>6422.62</td>\n",
       "      <td>1360301</td>\n",
       "      <td>21.14</td>\n",
       "      <td>-157.51</td>\n",
       "      <td>1272.31</td>\n",
       "      <td>25414</td>\n",
       "      <td>186.83</td>\n",
       "    </tr>\n",
       "    <tr>\n",
       "      <th>6</th>\n",
       "      <td>California</td>\n",
       "      <td>50.3</td>\n",
       "      <td>2602672</td>\n",
       "      <td>22.2</td>\n",
       "      <td>155959.34</td>\n",
       "      <td>37253956</td>\n",
       "      <td>35.58</td>\n",
       "      <td>-119.43</td>\n",
       "      <td>1276.81</td>\n",
       "      <td>328899</td>\n",
       "      <td>88.29</td>\n",
       "    </tr>\n",
       "    <tr>\n",
       "      <th>22</th>\n",
       "      <td>Arizona</td>\n",
       "      <td>41.4</td>\n",
       "      <td>302952</td>\n",
       "      <td>13.6</td>\n",
       "      <td>113634.57</td>\n",
       "      <td>6392017</td>\n",
       "      <td>33.35</td>\n",
       "      <td>-111.89</td>\n",
       "      <td>1378.22</td>\n",
       "      <td>39553</td>\n",
       "      <td>61.88</td>\n",
       "    </tr>\n",
       "    <tr>\n",
       "      <th>20</th>\n",
       "      <td>Florida</td>\n",
       "      <td>42.5</td>\n",
       "      <td>926817</td>\n",
       "      <td>54.5</td>\n",
       "      <td>53926.82</td>\n",
       "      <td>18801310</td>\n",
       "      <td>27.91</td>\n",
       "      <td>-81.75</td>\n",
       "      <td>1162.08</td>\n",
       "      <td>104123</td>\n",
       "      <td>55.38</td>\n",
       "    </tr>\n",
       "    <tr>\n",
       "      <th>23</th>\n",
       "      <td>Colorado</td>\n",
       "      <td>42.4</td>\n",
       "      <td>323692</td>\n",
       "      <td>15.9</td>\n",
       "      <td>103717.53</td>\n",
       "      <td>5029196</td>\n",
       "      <td>39.53</td>\n",
       "      <td>-105.22</td>\n",
       "      <td>1246.37</td>\n",
       "      <td>24140</td>\n",
       "      <td>48.00</td>\n",
       "    </tr>\n",
       "  </tbody>\n",
       "</table>\n",
       "</div>"
      ],
      "text/plain": [
       "         State  BlueRank      GDP  Rain       Size  Population  lat_avg  \\\n",
       "5       Hawaii      49.8    83917  63.7    6422.62     1360301    21.14   \n",
       "6   California      50.3  2602672  22.2  155959.34    37253956    35.58   \n",
       "22     Arizona      41.4   302952  13.6  113634.57     6392017    33.35   \n",
       "20     Florida      42.5   926817  54.5   53926.82    18801310    27.91   \n",
       "23    Colorado      42.4   323692  15.9  103717.53     5029196    39.53   \n",
       "\n",
       "    lng_avg  Sunshine  Installs  InstallPerCap  \n",
       "5   -157.51   1272.31     25414         186.83  \n",
       "6   -119.43   1276.81    328899          88.29  \n",
       "22  -111.89   1378.22     39553          61.88  \n",
       "20   -81.75   1162.08    104123          55.38  \n",
       "23  -105.22   1246.37     24140          48.00  "
      ]
     },
     "execution_count": 80,
     "metadata": {},
     "output_type": "execute_result"
    }
   ],
   "source": [
    "table = pd.merge(size, table, on='State')\n",
    "table = pd.merge(rain, table, on='State')\n",
    "table = pd.merge(money, table, on='State')\n",
    "table = pd.merge(poli, table, on='State')\n",
    "table.head(5)\n",
    "\n",
    "# Ranmame columns and resort by installs\n",
    "\n",
    "table = table.rename(columns={'2016' : 'GDP', 'square_miles' : 'Size'})\n",
    "table = table.sort_values('InstallPerCap', ascending=False)\n",
    "table.head(5)"
   ]
  },
  {
   "cell_type": "code",
   "execution_count": 81,
   "metadata": {},
   "outputs": [
    {
     "data": {
      "image/png": "[encoded data removed]",
      "text/plain": [
       "<matplotlib.figure.Figure at 0x1122be748>"
      ]
     },
     "metadata": {},
     "output_type": "display_data"
    },
    {
     "data": {
      "image/png": "[encoded data removed]",
      "text/plain": [
       "<matplotlib.figure.Figure at 0x115125400>"
      ]
     },
     "metadata": {},
     "output_type": "display_data"
    },
    {
     "data": {
      "image/png": "[encoded data removed]",
      "text/plain": [
       "<matplotlib.figure.Figure at 0x1151b9278>"
      ]
     },
     "metadata": {},
     "output_type": "display_data"
    },
    {
     "data": {
      "image/png": "[encoded data removed]",
      "text/plain": [
       "<matplotlib.figure.Figure at 0x115240b38>"
      ]
     },
     "metadata": {},
     "output_type": "display_data"
    }
   ],
   "source": [
    "for i in ['BlueRank', 'Rain', 'Size', 'GDP']:\n",
    "    table.plot(x=i, y='InstallPerCap', kind='scatter')"
   ]
  },
  {
   "cell_type": "markdown",
   "metadata": {},
   "source": [
    "It's not clear from inspection that rain or absolute state size correclate well. Political leaning (BlueRank) seems to show a stonger correlation, as does GDP with the obvious outlier of Hawaii. We'll adjust GDP to per-capita GDP and see how that looks.\n",
    "\n",
    "\n"
   ]
  },
  {
   "cell_type": "code",
   "execution_count": 82,
   "metadata": {},
   "outputs": [
    {
     "data": {
      "text/html": [
       "<div>\n",
       "<style>\n",
       "    .dataframe thead tr:only-child th {\n",
       "        text-align: right;\n",
       "    }\n",
       "\n",
       "    .dataframe thead th {\n",
       "        text-align: left;\n",
       "    }\n",
       "\n",
       "    .dataframe tbody tr th {\n",
       "        vertical-align: top;\n",
       "    }\n",
       "</style>\n",
       "<table border=\"1\" class=\"dataframe\">\n",
       "  <thead>\n",
       "    <tr style=\"text-align: right;\">\n",
       "      <th></th>\n",
       "      <th>State</th>\n",
       "      <th>BlueRank</th>\n",
       "      <th>GDP</th>\n",
       "      <th>Rain</th>\n",
       "      <th>Size</th>\n",
       "      <th>Population</th>\n",
       "      <th>lat_avg</th>\n",
       "      <th>lng_avg</th>\n",
       "      <th>Sunshine</th>\n",
       "      <th>Installs</th>\n",
       "      <th>InstallPerCap</th>\n",
       "      <th>GDPperCapita</th>\n",
       "    </tr>\n",
       "  </thead>\n",
       "  <tbody>\n",
       "    <tr>\n",
       "      <th>5</th>\n",
       "      <td>Hawaii</td>\n",
       "      <td>49.8</td>\n",
       "      <td>83917</td>\n",
       "      <td>63.7</td>\n",
       "      <td>6422.62</td>\n",
       "      <td>1360301</td>\n",
       "      <td>21.14</td>\n",
       "      <td>-157.51</td>\n",
       "      <td>1272.31</td>\n",
       "      <td>25414</td>\n",
       "      <td>186.83</td>\n",
       "      <td>616.90</td>\n",
       "    </tr>\n",
       "    <tr>\n",
       "      <th>6</th>\n",
       "      <td>California</td>\n",
       "      <td>50.3</td>\n",
       "      <td>2602672</td>\n",
       "      <td>22.2</td>\n",
       "      <td>155959.34</td>\n",
       "      <td>37253956</td>\n",
       "      <td>35.58</td>\n",
       "      <td>-119.43</td>\n",
       "      <td>1276.81</td>\n",
       "      <td>328899</td>\n",
       "      <td>88.29</td>\n",
       "      <td>698.63</td>\n",
       "    </tr>\n",
       "    <tr>\n",
       "      <th>22</th>\n",
       "      <td>Arizona</td>\n",
       "      <td>41.4</td>\n",
       "      <td>302952</td>\n",
       "      <td>13.6</td>\n",
       "      <td>113634.57</td>\n",
       "      <td>6392017</td>\n",
       "      <td>33.35</td>\n",
       "      <td>-111.89</td>\n",
       "      <td>1378.22</td>\n",
       "      <td>39553</td>\n",
       "      <td>61.88</td>\n",
       "      <td>473.95</td>\n",
       "    </tr>\n",
       "    <tr>\n",
       "      <th>20</th>\n",
       "      <td>Florida</td>\n",
       "      <td>42.5</td>\n",
       "      <td>926817</td>\n",
       "      <td>54.5</td>\n",
       "      <td>53926.82</td>\n",
       "      <td>18801310</td>\n",
       "      <td>27.91</td>\n",
       "      <td>-81.75</td>\n",
       "      <td>1162.08</td>\n",
       "      <td>104123</td>\n",
       "      <td>55.38</td>\n",
       "      <td>492.95</td>\n",
       "    </tr>\n",
       "    <tr>\n",
       "      <th>23</th>\n",
       "      <td>Colorado</td>\n",
       "      <td>42.4</td>\n",
       "      <td>323692</td>\n",
       "      <td>15.9</td>\n",
       "      <td>103717.53</td>\n",
       "      <td>5029196</td>\n",
       "      <td>39.53</td>\n",
       "      <td>-105.22</td>\n",
       "      <td>1246.37</td>\n",
       "      <td>24140</td>\n",
       "      <td>48.00</td>\n",
       "      <td>643.63</td>\n",
       "    </tr>\n",
       "  </tbody>\n",
       "</table>\n",
       "</div>"
      ],
      "text/plain": [
       "         State  BlueRank      GDP  Rain       Size  Population  lat_avg  \\\n",
       "5       Hawaii      49.8    83917  63.7    6422.62     1360301    21.14   \n",
       "6   California      50.3  2602672  22.2  155959.34    37253956    35.58   \n",
       "22     Arizona      41.4   302952  13.6  113634.57     6392017    33.35   \n",
       "20     Florida      42.5   926817  54.5   53926.82    18801310    27.91   \n",
       "23    Colorado      42.4   323692  15.9  103717.53     5029196    39.53   \n",
       "\n",
       "    lng_avg  Sunshine  Installs  InstallPerCap  GDPperCapita  \n",
       "5   -157.51   1272.31     25414         186.83        616.90  \n",
       "6   -119.43   1276.81    328899          88.29        698.63  \n",
       "22  -111.89   1378.22     39553          61.88        473.95  \n",
       "20   -81.75   1162.08    104123          55.38        492.95  \n",
       "23  -105.22   1246.37     24140          48.00        643.63  "
      ]
     },
     "execution_count": 82,
     "metadata": {},
     "output_type": "execute_result"
    }
   ],
   "source": [
    "table[\"GDPperCapita\"] = 10000 * table.GDP / table.Population\n",
    "table.head(5)"
   ]
  },
  {
   "cell_type": "code",
   "execution_count": 87,
   "metadata": {
    "scrolled": true
   },
   "outputs": [
    {
     "data": {
      "text/plain": [
       "<matplotlib.axes._subplots.AxesSubplot at 0x1155024a8>"
      ]
     },
     "execution_count": 87,
     "metadata": {},
     "output_type": "execute_result"
    },
    {
     "data": {
      "image/png": "[encoded data removed]",
      "text/plain": [
       "<matplotlib.figure.Figure at 0x115853240>"
      ]
     },
     "metadata": {},
     "output_type": "display_data"
    }
   ],
   "source": [
    "table.plot(x='GDPperCapita', y='InstallPerCap', kind='scatter')\n"
   ]
  },
  {
   "cell_type": "markdown",
   "metadata": {},
   "source": [
    "## Building a function incorporating all factors\n",
    "Inspecting all graphs, we see that some factors show little or no correlations (state size, rain)\n",
    "while others all show positive correlations (best-fit squares lines slope up-right.)\n",
    "<br>\n",
    "<br>\n",
    "We can combine the factors which show correlation and ideally generate a single plot with few outliers.\n",
    "Installs = f(Sunshine, latitude, longitude, GDP, Population, BlueRank)\n",
    "We'll generate a new column of these calculated factors, and play with the coefficients and normalizations:"
   ]
  },
  {
   "cell_type": "code",
   "execution_count": null,
   "metadata": {},
   "outputs": [],
   "source": [
    "# table['Factors'] = (np.log(table['Population']) * (table['GDP']) * (table['BlueRank'] - 26)**2 \n",
    "#                    * ((table['Sunshine'] - 795)**2)) / 10**13\n",
    "table['Factors'] = ((table['GDP']) * (table['BlueRank'] - 25)**2 * -(table['lng_avg'] - 50)\n",
    "                    * ((table['Sunshine'] - 750)**2) / ( (table['lat_avg'] - 10) * table['Population'] * 10**6))\n",
    "table = table.sort_values('Factors', ascending=False)\n",
    "table.plot(x='Factors', y='InstallPerCap', kind='scatter', loglog=True)\n",
    "table"
   ]
  },
  {
   "cell_type": "markdown",
   "metadata": {
    "collapsed": true
   },
   "source": [
    "At this point we can see a pretty clear correlation between the factors involved in \"predicting\" how many solar\n",
    "installations a state may have. The data might be normalized better so that there is not a 10^3 spread in the \n",
    "results (although there is that much spread in the installation numbers, so it might be appropriate.) We used\n",
    "a log-log plot to bring in the spread, although that has an artificial tendency to make plots look more linear.\n",
    "<br>\n",
    "<br>\n",
    "Running a correlations table, we can see that Sunshine, latitude, and longitude on their own (corr ~ 0.52) were the best predictors of solar panel installations. But bringing in the additional factors of GDP and political leaning into an adjusted function gives a high correlation factor of 0.94.\n",
    "\n"
   ]
  },
  {
   "cell_type": "code",
   "execution_count": null,
   "metadata": {},
   "outputs": [],
   "source": [
    "table.corr()"
   ]
  },
  {
   "cell_type": "markdown",
   "metadata": {
    "collapsed": true
   },
   "source": [
    "## Further investigations\n",
    "\n",
    "The outliers include Texas, which factors would indicate should have many more installations that it does. Perhaps\n",
    "that state's high oil-producing economy suppresses otherwise good tendencies for solar. Outliers on the high side\n",
    "include Colorado, Washington, Oregon, and Utah. They were given factor \"boosts\" with good scores for western latitude\n",
    "and Democrat-leaning politics. But even that wasn't enough to explain why they have higher solar installations\n",
    "than would be predicted here. "
   ]
  },
  {
   "cell_type": "code",
   "execution_count": null,
   "metadata": {
    "collapsed": true
   },
   "outputs": [],
   "source": []
  }
 ],
 "metadata": {
  "kernelspec": {
   "display_name": "Python 3",
   "language": "python",
   "name": "python3"
  },
  "language_info": {
   "codemirror_mode": {
    "name": "ipython",
    "version": 3
   },
   "file_extension": ".py",
   "mimetype": "text/x-python",
   "name": "python",
   "nbconvert_exporter": "python",
   "pygments_lexer": "ipython3",
   "version": "3.6.2"
  }
 },
 "nbformat": 4,
 "nbformat_minor": 2
}
